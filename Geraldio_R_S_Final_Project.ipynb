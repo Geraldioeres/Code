{
  "nbformat": 4,
  "nbformat_minor": 0,
  "metadata": {
    "colab": {
      "name": "Geraldio R.S_Final Project Dicoding.ipynb",
      "provenance": [],
      "authorship_tag": "ABX9TyPj53ML81fLFvhADi2e0OQ/",
      "include_colab_link": true
    },
    "kernelspec": {
      "name": "python3",
      "display_name": "Python 3"
    },
    "language_info": {
      "name": "python"
    }
  },
  "cells": [
    {
      "cell_type": "markdown",
      "metadata": {
        "id": "view-in-github",
        "colab_type": "text"
      },
      "source": [
        "<a href=\"https://colab.research.google.com/github/Geraldioeres/Demo/blob/main/Geraldio_R_S_Final_Project.ipynb\" target=\"_parent\"><img src=\"https://colab.research.google.com/assets/colab-badge.svg\" alt=\"Open In Colab\"/></a>"
      ]
    },
    {
      "cell_type": "code",
      "metadata": {
        "id": "yTrJLxJeTGi7"
      },
      "source": [
        "# Nama : Geraldio Ramadhan Safitri\n",
        "# Asal : Kabupaten Kutai Barat, Kalimantan Timur"
      ],
      "execution_count": null,
      "outputs": []
    },
    {
      "cell_type": "code",
      "metadata": {
        "id": "j7z8n3-pT4fH"
      },
      "source": [
        "# Mengimport library yang diperlukan model\n",
        "import tensorflow as tf\n",
        "from tensorflow.keras.preprocessing.image import ImageDataGenerator\n",
        "import zipfile,os"
      ],
      "execution_count": 1,
      "outputs": []
    },
    {
      "cell_type": "code",
      "metadata": {
        "colab": {
          "base_uri": "https://localhost:8080/"
        },
        "id": "1BOL0YzuT6ky",
        "outputId": "383d4a91-7064-46a8-e306-97c22be9316d"
      },
      "source": [
        "# Mengunduh dataset sebagai rockpaperscissors.zip (dipisah dari unzip agar jika terjadi kegagalan dan di re-run tidak mengunduh file ulang saat dijalankan)\n",
        "!wget --no-check-certificate \\\n",
        "  https://dicodingacademy.blob.core.windows.net/picodiploma/ml_pemula_academy/rockpaperscissors.zip"
      ],
      "execution_count": 2,
      "outputs": [
        {
          "output_type": "stream",
          "text": [
            "--2021-07-24 16:18:06--  https://dicodingacademy.blob.core.windows.net/picodiploma/ml_pemula_academy/rockpaperscissors.zip\n",
            "Resolving dicodingacademy.blob.core.windows.net (dicodingacademy.blob.core.windows.net)... 52.239.197.36\n",
            "Connecting to dicodingacademy.blob.core.windows.net (dicodingacademy.blob.core.windows.net)|52.239.197.36|:443... connected.\n",
            "HTTP request sent, awaiting response... 200 OK\n",
            "Length: 322873683 (308M) [application/zip]\n",
            "Saving to: ‘rockpaperscissors.zip’\n",
            "\n",
            "rockpaperscissors.z 100%[===================>] 307.92M  7.50MB/s    in 60s     \n",
            "\n",
            "2021-07-24 16:19:06 (5.16 MB/s) - ‘rockpaperscissors.zip’ saved [322873683/322873683]\n",
            "\n"
          ],
          "name": "stdout"
        }
      ]
    },
    {
      "cell_type": "code",
      "metadata": {
        "id": "qPINV-ziUO1r"
      },
      "source": [
        "# Extract file\n",
        "zip_file = 'rockpaperscissors.zip'\n",
        "with zipfile.ZipFile(zip_file) as z:\n",
        "  z.extractall('/tmp')\n",
        "\n",
        "base_dir = '/tmp/rockpaperscissors/rps-cv-images'"
      ],
      "execution_count": 5,
      "outputs": []
    },
    {
      "cell_type": "code",
      "metadata": {
        "colab": {
          "base_uri": "https://localhost:8080/"
        },
        "id": "v-Ps_A1-UwaU",
        "outputId": "70c4c7e1-fae0-4a4b-ade1-e91bbdff138f"
      },
      "source": [
        "os.listdir(base_dir)"
      ],
      "execution_count": 6,
      "outputs": [
        {
          "output_type": "execute_result",
          "data": {
            "text/plain": [
              "['scissors', 'rock', 'README_rpc-cv-images.txt', 'paper']"
            ]
          },
          "metadata": {
            "tags": []
          },
          "execution_count": 6
        }
      ]
    }
  ]
}