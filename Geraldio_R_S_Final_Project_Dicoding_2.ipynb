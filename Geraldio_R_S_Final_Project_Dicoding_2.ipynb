{
  "nbformat": 4,
  "nbformat_minor": 0,
  "metadata": {
    "colab": {
      "name": "Geraldio R.S_Final Project Dicoding.ipynb",
      "provenance": [],
      "collapsed_sections": [],
      "authorship_tag": "ABX9TyPtMkT/BXF9Z8rgysvNDuon",
      "include_colab_link": true
    },
    "kernelspec": {
      "name": "python3",
      "display_name": "Python 3"
    },
    "language_info": {
      "name": "python"
    }
  },
  "cells": [
    {
      "cell_type": "markdown",
      "metadata": {
        "id": "view-in-github",
        "colab_type": "text"
      },
      "source": [
        "<a href=\"https://colab.research.google.com/github/Geraldioeres/Demo/blob/main/Geraldio_R_S_Final_Project_Dicoding_2.ipynb\" target=\"_parent\"><img src=\"https://colab.research.google.com/assets/colab-badge.svg\" alt=\"Open In Colab\"/></a>"
      ]
    },
    {
      "cell_type": "markdown",
      "metadata": {
        "id": "B_QTBc8OWtrl"
      },
      "source": [
        "\n",
        "\n",
        "\n",
        "Rock Paper Scissors Image Classification\n",
        "\n",
        "\n",
        "---\n",
        "\n",
        "Nama : Geraldio Ramadhan Safitri \n",
        "\n",
        "Asal : Kabupaten Kutai Barat, Kalimantan Timur\n",
        "\n",
        "Email : geralmers01@gmail.com"
      ]
    },
    {
      "cell_type": "code",
      "metadata": {
        "id": "j7z8n3-pT4fH"
      },
      "source": [
        "# Mengimport library yang diperlukan model\n",
        "import tensorflow as tf\n",
        "from tensorflow.keras.preprocessing.image import ImageDataGenerator\n",
        "import zipfile,os"
      ],
      "execution_count": 1,
      "outputs": []
    },
    {
      "cell_type": "code",
      "metadata": {
        "id": "1BOL0YzuT6ky"
      },
      "source": [
        "# Mengunduh dataset sebagai rockpaperscissors.zip (dipisah dari unzip agar jika terjadi kegagalan dan di re-run tidak mengunduh file ulang saat dijalankan)\n",
        "!wget --no-check-certificate \\\n",
        "  https://dicodingacademy.blob.core.windows.net/picodiploma/ml_pemula_academy/rockpaperscissors.zip"
      ],
      "execution_count": null,
      "outputs": []
    },
    {
      "cell_type": "code",
      "metadata": {
        "id": "qPINV-ziUO1r"
      },
      "source": [
        "# Extract file\n",
        "zip_file = 'rockpaperscissors.zip'\n",
        "with zipfile.ZipFile(zip_file) as z:\n",
        "  z.extractall('/tmp')\n",
        "\n",
        "base_dir = '/tmp/rockpaperscissors'"
      ],
      "execution_count": 8,
      "outputs": []
    },
    {
      "cell_type": "code",
      "metadata": {
        "colab": {
          "base_uri": "https://localhost:8080/"
        },
        "id": "v-Ps_A1-UwaU",
        "outputId": "23128ca0-f7b1-4e16-b229-976fdb369fdb"
      },
      "source": [
        "# Memeriksa directory\n",
        "os.listdir(base_dir)"
      ],
      "execution_count": 12,
      "outputs": [
        {
          "output_type": "execute_result",
          "data": {
            "text/plain": [
              "['scissors', 'rock', 'README_rpc-cv-images.txt', 'paper']"
            ]
          },
          "metadata": {
            "tags": []
          },
          "execution_count": 12
        }
      ]
    },
    {
      "cell_type": "code",
      "metadata": {
        "id": "MO3s2INWfhIw"
      },
      "source": [
        "# Menghapus folder dengan isi yang sama pada base directory dengan instruksi remove\n",
        "%rm -rf /tmp/rockpaperscissors/rps-cv-images"
      ],
      "execution_count": 11,
      "outputs": []
    },
    {
      "cell_type": "code",
      "metadata": {
        "id": "AhySAqTMhBGg"
      },
      "source": [
        "# Augmentasi gambar dengan ImageDataGenerator\n",
        "train_datagen = ImageDataGenerator(\n",
        "                      rescale=1./255,\n",
        "                      rotation_range=20,\n",
        "                      horizontal_flip=True,\n",
        "                      shear_range = 0.2,\n",
        "                      fill_mode = 'nearest',\n",
        "                      validation_split=0.4)\n",
        "test_datagen = ImageDataGenerator(\n",
        "                      rescale=1./255,\n",
        "                      rotation_range=20,\n",
        "                      horizontal_flip=True,\n",
        "                      shear_range = 0.2,\n",
        "                      fill_mode = 'nearest')"
      ],
      "execution_count": 14,
      "outputs": []
    },
    {
      "cell_type": "code",
      "metadata": {
        "colab": {
          "base_uri": "https://localhost:8080/"
        },
        "id": "LXqM0aMlncC7",
        "outputId": "b659d31c-d5a9-4bd0-c840-41b51487ac76"
      },
      "source": [
        "# Image Data Generator untuk data latih\n",
        "# Menggunakan subset karena validation_split di set\n",
        "train_generator = train_datagen.flow_from_directory(\n",
        "          base_dir,\n",
        "          target_size=(150, 150),\n",
        "          batch_size=4,\n",
        "          class_mode='categorical',\n",
        "          subset='training')\n",
        "          \n",
        "validation_generator = train_datagen.flow_from_directory(\n",
        "          base_dir,\n",
        "          target_size=(150, 150),\n",
        "          batch_size=4,\n",
        "          class_mode='categorical',\n",
        "          subset='validation')\n",
        "\n"
      ],
      "execution_count": 16,
      "outputs": [
        {
          "output_type": "stream",
          "text": [
            "Found 1314 images belonging to 3 classes.\n",
            "Found 874 images belonging to 3 classes.\n"
          ],
          "name": "stdout"
        }
      ]
    },
    {
      "cell_type": "code",
      "metadata": {
        "id": "b3GGzcgHr8EQ"
      },
      "source": [
        ""
      ],
      "execution_count": null,
      "outputs": []
    }
  ]
}